{
  "nbformat": 4,
  "nbformat_minor": 0,
  "metadata": {
    "colab": {
      "provenance": [],
      "authorship_tag": "ABX9TyM1YUGsGx1ViRFRLDt+fxBS",
      "include_colab_link": true
    },
    "kernelspec": {
      "name": "python3",
      "display_name": "Python 3"
    },
    "language_info": {
      "name": "python"
    }
  },
  "cells": [
    {
      "cell_type": "markdown",
      "metadata": {
        "id": "view-in-github",
        "colab_type": "text"
      },
      "source": [
        "<a href=\"https://colab.research.google.com/github/javierahermosa/AI/blob/main/RAG_1.ipynb\" target=\"_parent\"><img src=\"https://colab.research.google.com/assets/colab-badge.svg\" alt=\"Open In Colab\"/></a>"
      ]
    },
    {
      "cell_type": "code",
      "execution_count": 2,
      "metadata": {
        "colab": {
          "base_uri": "https://localhost:8080/"
        },
        "collapsed": true,
        "id": "DpwZHE-dlyHR",
        "outputId": "cf6b9607-1a5b-49a6-b623-83b43ab6d025"
      },
      "outputs": [
        {
          "output_type": "stream",
          "name": "stdout",
          "text": [
            "\u001b[2K     \u001b[90m━━━━━━━━━━━━━━━━━━━━━━━━━━━━━━━━━━━━━━━━\u001b[0m \u001b[32m13.3/13.3 MB\u001b[0m \u001b[31m68.9 MB/s\u001b[0m eta \u001b[36m0:00:00\u001b[0m\n",
            "\u001b[2K     \u001b[90m━━━━━━━━━━━━━━━━━━━━━━━━━━━━━━━━━━━━━━━━\u001b[0m \u001b[32m973.5/973.5 kB\u001b[0m \u001b[31m47.4 MB/s\u001b[0m eta \u001b[36m0:00:00\u001b[0m\n",
            "\u001b[2K     \u001b[90m━━━━━━━━━━━━━━━━━━━━━━━━━━━━━━━━━━━━━━━━\u001b[0m \u001b[32m2.1/2.1 MB\u001b[0m \u001b[31m55.7 MB/s\u001b[0m eta \u001b[36m0:00:00\u001b[0m\n",
            "\u001b[2K     \u001b[90m━━━━━━━━━━━━━━━━━━━━━━━━━━━━━━━━━━━━━━━━\u001b[0m \u001b[32m199.5/199.5 kB\u001b[0m \u001b[31m14.6 MB/s\u001b[0m eta \u001b[36m0:00:00\u001b[0m\n",
            "\u001b[2K     \u001b[90m━━━━━━━━━━━━━━━━━━━━━━━━━━━━━━━━━━━━━━━━\u001b[0m \u001b[32m203.0/203.0 kB\u001b[0m \u001b[31m19.0 MB/s\u001b[0m eta \u001b[36m0:00:00\u001b[0m\n",
            "\u001b[?25h  Installing build dependencies ... \u001b[?25l\u001b[?25hdone\n",
            "  Getting requirements to build wheel ... \u001b[?25l\u001b[?25hdone\n",
            "  Installing backend dependencies ... \u001b[?25l\u001b[?25hdone\n",
            "  Preparing metadata (pyproject.toml) ... \u001b[?25l\u001b[?25hdone\n",
            "  Preparing metadata (setup.py) ... \u001b[?25l\u001b[?25hdone\n",
            "\u001b[2K     \u001b[90m━━━━━━━━━━━━━━━━━━━━━━━━━━━━━━━━━━━━━━━━\u001b[0m \u001b[32m1.1/1.1 MB\u001b[0m \u001b[31m65.3 MB/s\u001b[0m eta \u001b[36m0:00:00\u001b[0m\n",
            "\u001b[2K     \u001b[90m━━━━━━━━━━━━━━━━━━━━━━━━━━━━━━━━━━━━━━━━\u001b[0m \u001b[32m15.3/15.3 MB\u001b[0m \u001b[31m62.7 MB/s\u001b[0m eta \u001b[36m0:00:00\u001b[0m\n",
            "\u001b[2K     \u001b[90m━━━━━━━━━━━━━━━━━━━━━━━━━━━━━━━━━━━━━━━━\u001b[0m \u001b[32m75.6/75.6 kB\u001b[0m \u001b[31m8.7 MB/s\u001b[0m eta \u001b[36m0:00:00\u001b[0m\n",
            "\u001b[2K     \u001b[90m━━━━━━━━━━━━━━━━━━━━━━━━━━━━━━━━━━━━━━━━\u001b[0m \u001b[32m308.5/308.5 kB\u001b[0m \u001b[31m30.1 MB/s\u001b[0m eta \u001b[36m0:00:00\u001b[0m\n",
            "\u001b[2K     \u001b[90m━━━━━━━━━━━━━━━━━━━━━━━━━━━━━━━━━━━━━━━━\u001b[0m \u001b[32m215.9/215.9 kB\u001b[0m \u001b[31m22.2 MB/s\u001b[0m eta \u001b[36m0:00:00\u001b[0m\n",
            "\u001b[2K     \u001b[90m━━━━━━━━━━━━━━━━━━━━━━━━━━━━━━━━━━━━━━━━\u001b[0m \u001b[32m122.8/122.8 kB\u001b[0m \u001b[31m13.8 MB/s\u001b[0m eta \u001b[36m0:00:00\u001b[0m\n",
            "\u001b[2K     \u001b[90m━━━━━━━━━━━━━━━━━━━━━━━━━━━━━━━━━━━━━━━━\u001b[0m \u001b[32m49.3/49.3 kB\u001b[0m \u001b[31m4.8 MB/s\u001b[0m eta \u001b[36m0:00:00\u001b[0m\n",
            "\u001b[2K     \u001b[90m━━━━━━━━━━━━━━━━━━━━━━━━━━━━━━━━━━━━━━━━\u001b[0m \u001b[32m77.9/77.9 kB\u001b[0m \u001b[31m7.7 MB/s\u001b[0m eta \u001b[36m0:00:00\u001b[0m\n",
            "\u001b[2K     \u001b[90m━━━━━━━━━━━━━━━━━━━━━━━━━━━━━━━━━━━━━━━━\u001b[0m \u001b[32m58.3/58.3 kB\u001b[0m \u001b[31m6.0 MB/s\u001b[0m eta \u001b[36m0:00:00\u001b[0m\n",
            "\u001b[2K     \u001b[90m━━━━━━━━━━━━━━━━━━━━━━━━━━━━━━━━━━━━━━━━\u001b[0m \u001b[32m53.0/53.0 kB\u001b[0m \u001b[31m5.8 MB/s\u001b[0m eta \u001b[36m0:00:00\u001b[0m\n",
            "\u001b[2K     \u001b[90m━━━━━━━━━━━━━━━━━━━━━━━━━━━━━━━━━━━━━━━━\u001b[0m \u001b[32m142.5/142.5 kB\u001b[0m \u001b[31m10.0 MB/s\u001b[0m eta \u001b[36m0:00:00\u001b[0m\n",
            "\u001b[2K     \u001b[90m━━━━━━━━━━━━━━━━━━━━━━━━━━━━━━━━━━━━━━━━\u001b[0m \u001b[32m1.6/1.6 MB\u001b[0m \u001b[31m73.4 MB/s\u001b[0m eta \u001b[36m0:00:00\u001b[0m\n",
            "\u001b[?25h  Building wheel for neo4j (pyproject.toml) ... \u001b[?25l\u001b[?25hdone\n",
            "  Building wheel for wikipedia (setup.py) ... \u001b[?25l\u001b[?25hdone\n"
          ]
        }
      ],
      "source": [
        "%pip install --upgrade --quiet openai pypdf pydantic==1.10.8 scikit-learn langchain langchain[docarray] langchain-pinecone langchain-community langchain-openai langchain-experimental neo4j wikipedia tiktoken yfiles_jupyter_graphs\n"
      ]
    },
    {
      "cell_type": "code",
      "source": [],
      "metadata": {
        "colab": {
          "base_uri": "https://localhost:8080/"
        },
        "collapsed": true,
        "id": "s_PJ4dCospR5",
        "outputId": "d344d371-3350-42fe-8054-2b76cbf2a2ca"
      },
      "execution_count": 39,
      "outputs": [
        {
          "output_type": "stream",
          "name": "stdout",
          "text": [
            "Requirement already satisfied: langchain[docarray] in /usr/local/lib/python3.10/dist-packages (0.2.1)\n",
            "Requirement already satisfied: PyYAML>=5.3 in /usr/local/lib/python3.10/dist-packages (from langchain[docarray]) (6.0.1)\n",
            "Requirement already satisfied: SQLAlchemy<3,>=1.4 in /usr/local/lib/python3.10/dist-packages (from langchain[docarray]) (2.0.30)\n",
            "Requirement already satisfied: aiohttp<4.0.0,>=3.8.3 in /usr/local/lib/python3.10/dist-packages (from langchain[docarray]) (3.9.5)\n",
            "Requirement already satisfied: async-timeout<5.0.0,>=4.0.0 in /usr/local/lib/python3.10/dist-packages (from langchain[docarray]) (4.0.3)\n",
            "Requirement already satisfied: langchain-core<0.3.0,>=0.2.0 in /usr/local/lib/python3.10/dist-packages (from langchain[docarray]) (0.2.1)\n",
            "Requirement already satisfied: langchain-text-splitters<0.3.0,>=0.2.0 in /usr/local/lib/python3.10/dist-packages (from langchain[docarray]) (0.2.0)\n",
            "Requirement already satisfied: langsmith<0.2.0,>=0.1.17 in /usr/local/lib/python3.10/dist-packages (from langchain[docarray]) (0.1.63)\n",
            "Requirement already satisfied: numpy<2,>=1 in /usr/local/lib/python3.10/dist-packages (from langchain[docarray]) (1.25.2)\n",
            "Requirement already satisfied: pydantic<3,>=1 in /usr/local/lib/python3.10/dist-packages (from langchain[docarray]) (1.10.8)\n",
            "Requirement already satisfied: requests<3,>=2 in /usr/local/lib/python3.10/dist-packages (from langchain[docarray]) (2.31.0)\n",
            "Requirement already satisfied: tenacity<9.0.0,>=8.1.0 in /usr/local/lib/python3.10/dist-packages (from langchain[docarray]) (8.3.0)\n",
            "Collecting docarray[hnswlib]<0.33.0,>=0.32.0 (from langchain[docarray])\n",
            "  Downloading docarray-0.32.1-py3-none-any.whl (215 kB)\n",
            "\u001b[2K     \u001b[90m━━━━━━━━━━━━━━━━━━━━━━━━━━━━━━━━━━━━━━━━\u001b[0m \u001b[32m215.3/215.3 kB\u001b[0m \u001b[31m4.1 MB/s\u001b[0m eta \u001b[36m0:00:00\u001b[0m\n",
            "\u001b[?25hRequirement already satisfied: aiosignal>=1.1.2 in /usr/local/lib/python3.10/dist-packages (from aiohttp<4.0.0,>=3.8.3->langchain[docarray]) (1.3.1)\n",
            "Requirement already satisfied: attrs>=17.3.0 in /usr/local/lib/python3.10/dist-packages (from aiohttp<4.0.0,>=3.8.3->langchain[docarray]) (23.2.0)\n",
            "Requirement already satisfied: frozenlist>=1.1.1 in /usr/local/lib/python3.10/dist-packages (from aiohttp<4.0.0,>=3.8.3->langchain[docarray]) (1.4.1)\n",
            "Requirement already satisfied: multidict<7.0,>=4.5 in /usr/local/lib/python3.10/dist-packages (from aiohttp<4.0.0,>=3.8.3->langchain[docarray]) (6.0.5)\n",
            "Requirement already satisfied: yarl<2.0,>=1.0 in /usr/local/lib/python3.10/dist-packages (from aiohttp<4.0.0,>=3.8.3->langchain[docarray]) (1.9.4)\n",
            "Requirement already satisfied: orjson>=3.8.2 in /usr/local/lib/python3.10/dist-packages (from docarray[hnswlib]<0.33.0,>=0.32.0->langchain[docarray]) (3.10.3)\n",
            "Requirement already satisfied: rich>=13.1.0 in /usr/local/lib/python3.10/dist-packages (from docarray[hnswlib]<0.33.0,>=0.32.0->langchain[docarray]) (13.7.1)\n",
            "Collecting types-requests>=2.28.11.6 (from docarray[hnswlib]<0.33.0,>=0.32.0->langchain[docarray])\n",
            "  Downloading types_requests-2.32.0.20240523-py3-none-any.whl (15 kB)\n",
            "Requirement already satisfied: typing-inspect>=0.8.0 in /usr/local/lib/python3.10/dist-packages (from docarray[hnswlib]<0.33.0,>=0.32.0->langchain[docarray]) (0.9.0)\n",
            "Collecting hnswlib>=0.6.2 (from docarray[hnswlib]<0.33.0,>=0.32.0->langchain[docarray])\n",
            "  Downloading hnswlib-0.8.0.tar.gz (36 kB)\n",
            "  Installing build dependencies ... \u001b[?25l\u001b[?25hdone\n",
            "  Getting requirements to build wheel ... \u001b[?25l\u001b[?25hdone\n",
            "  Preparing metadata (pyproject.toml) ... \u001b[?25l\u001b[?25hdone\n",
            "Requirement already satisfied: protobuf>=3.19.0 in /usr/local/lib/python3.10/dist-packages (from docarray[hnswlib]<0.33.0,>=0.32.0->langchain[docarray]) (3.20.3)\n",
            "Requirement already satisfied: jsonpatch<2.0,>=1.33 in /usr/local/lib/python3.10/dist-packages (from langchain-core<0.3.0,>=0.2.0->langchain[docarray]) (1.33)\n",
            "Requirement already satisfied: packaging<24.0,>=23.2 in /usr/local/lib/python3.10/dist-packages (from langchain-core<0.3.0,>=0.2.0->langchain[docarray]) (23.2)\n",
            "Requirement already satisfied: typing-extensions>=4.2.0 in /usr/local/lib/python3.10/dist-packages (from pydantic<3,>=1->langchain[docarray]) (4.11.0)\n",
            "Requirement already satisfied: charset-normalizer<4,>=2 in /usr/local/lib/python3.10/dist-packages (from requests<3,>=2->langchain[docarray]) (3.3.2)\n",
            "Requirement already satisfied: idna<4,>=2.5 in /usr/local/lib/python3.10/dist-packages (from requests<3,>=2->langchain[docarray]) (3.7)\n",
            "Requirement already satisfied: urllib3<3,>=1.21.1 in /usr/local/lib/python3.10/dist-packages (from requests<3,>=2->langchain[docarray]) (2.0.7)\n",
            "Requirement already satisfied: certifi>=2017.4.17 in /usr/local/lib/python3.10/dist-packages (from requests<3,>=2->langchain[docarray]) (2024.2.2)\n",
            "Requirement already satisfied: greenlet!=0.4.17 in /usr/local/lib/python3.10/dist-packages (from SQLAlchemy<3,>=1.4->langchain[docarray]) (3.0.3)\n",
            "Requirement already satisfied: jsonpointer>=1.9 in /usr/local/lib/python3.10/dist-packages (from jsonpatch<2.0,>=1.33->langchain-core<0.3.0,>=0.2.0->langchain[docarray]) (2.4)\n",
            "Requirement already satisfied: markdown-it-py>=2.2.0 in /usr/local/lib/python3.10/dist-packages (from rich>=13.1.0->docarray[hnswlib]<0.33.0,>=0.32.0->langchain[docarray]) (3.0.0)\n",
            "Requirement already satisfied: pygments<3.0.0,>=2.13.0 in /usr/local/lib/python3.10/dist-packages (from rich>=13.1.0->docarray[hnswlib]<0.33.0,>=0.32.0->langchain[docarray]) (2.16.1)\n",
            "Requirement already satisfied: mypy-extensions>=0.3.0 in /usr/local/lib/python3.10/dist-packages (from typing-inspect>=0.8.0->docarray[hnswlib]<0.33.0,>=0.32.0->langchain[docarray]) (1.0.0)\n",
            "Requirement already satisfied: mdurl~=0.1 in /usr/local/lib/python3.10/dist-packages (from markdown-it-py>=2.2.0->rich>=13.1.0->docarray[hnswlib]<0.33.0,>=0.32.0->langchain[docarray]) (0.1.2)\n",
            "Building wheels for collected packages: hnswlib\n",
            "  Building wheel for hnswlib (pyproject.toml) ... \u001b[?25l\u001b[?25hdone\n",
            "  Created wheel for hnswlib: filename=hnswlib-0.8.0-cp310-cp310-linux_x86_64.whl size=2319656 sha256=21d4b7a872e7992180a708810066d52a79af789e4b5256e7ecf25c777576d028\n",
            "  Stored in directory: /root/.cache/pip/wheels/af/a9/3e/3e5d59ee41664eb31a4e6de67d1846f86d16d93c45f277c4e7\n",
            "Successfully built hnswlib\n",
            "Installing collected packages: types-requests, hnswlib, docarray\n",
            "Successfully installed docarray-0.32.1 hnswlib-0.8.0 types-requests-2.32.0.20240523\n"
          ]
        }
      ]
    },
    {
      "cell_type": "code",
      "source": [
        "from langchain_openai.chat_models import ChatOpenAI\n",
        "from langchain_core.output_parsers import StrOutputParser\n",
        "from langchain.prompts import ChatPromptTemplate\n",
        "from operator import itemgetter\n",
        "from langchain_community.document_loaders import TextLoader, PyPDFLoader\n",
        "from langchain.text_splitter import RecursiveCharacterTextSplitter\n",
        "from langchain_openai.embeddings import OpenAIEmbeddings\n",
        "from sklearn.metrics.pairwise import cosine_similarity\n",
        "from langchain_community.vectorstores import DocArrayInMemorySearch\n",
        "from langchain_core.runnables import RunnableParallel, RunnablePassthrough\n",
        "from langchain_pinecone import PineconeVectorStore\n",
        "from langchain_community.vectorstores import DocArrayInMemorySearch\n",
        "\n",
        "\n",
        "from google.colab import userdata\n",
        "import os"
      ],
      "metadata": {
        "id": "mqoHk5SRneiz"
      },
      "execution_count": 36,
      "outputs": []
    },
    {
      "cell_type": "code",
      "source": [],
      "metadata": {
        "id": "iNQz_uUPufa7"
      },
      "execution_count": null,
      "outputs": []
    },
    {
      "cell_type": "code",
      "source": [
        "import os\n",
        "os.environ['OPENAI_API_KEY'] = userdata.get('OPENAI_API_KEY')\n",
        "os.environ['PINECONE_API_KEY'] = userdata.get('PINECONE_API_KEY')\n",
        "os.environ['NEO4J_PASSWORD'] = userdata.get('NEO4J_PASSWORD')\n",
        "\n",
        "filename = 'AI_Act.pdf'\n"
      ],
      "metadata": {
        "id": "szAVP_3BorEZ"
      },
      "execution_count": 12,
      "outputs": []
    },
    {
      "cell_type": "markdown",
      "source": [
        "## Model Setup\n",
        "Let's define the LLM model we will use throughout the notebook."
      ],
      "metadata": {
        "id": "U1SXFVmhpcY8"
      }
    },
    {
      "cell_type": "code",
      "source": [
        "model = ChatOpenAI(model=\"gpt-4o\", temperature=0)"
      ],
      "metadata": {
        "id": "0JxTD0UXotfV"
      },
      "execution_count": 14,
      "outputs": []
    },
    {
      "cell_type": "code",
      "source": [
        "model.invoke(\"What are all the starwars movies\")\n"
      ],
      "metadata": {
        "colab": {
          "base_uri": "https://localhost:8080/"
        },
        "id": "IYXzFC-gpHYI",
        "outputId": "d432b8bb-9e92-4122-9b8b-747781c5b773"
      },
      "execution_count": 15,
      "outputs": [
        {
          "output_type": "execute_result",
          "data": {
            "text/plain": [
              "AIMessage(content='As of my knowledge cutoff in October 2023, the \"Star Wars\" film series includes the following movies:\\n\\n### The Skywalker Saga\\n1. **Episode I: The Phantom Menace** (1999)\\n2. **Episode II: Attack of the Clones** (2002)\\n3. **Episode III: Revenge of the Sith** (2005)\\n4. **Episode IV: A New Hope** (1977)\\n5. **Episode V: The Empire Strikes Back** (1980)\\n6. **Episode VI: Return of the Jedi** (1983)\\n7. **Episode VII: The Force Awakens** (2015)\\n8. **Episode VIII: The Last Jedi** (2017)\\n9. **Episode IX: The Rise of Skywalker** (2019)\\n\\n### Standalone Films (Anthology Series)\\n1. **Rogue One: A Star Wars Story** (2016)\\n2. **Solo: A Star Wars Story** (2018)\\n\\n### Animated Films\\n1. **Star Wars: The Clone Wars** (2008)\\n\\nThese films are part of the official \"Star Wars\" canon and are produced by Lucasfilm. The Skywalker Saga is the main storyline, while the standalone films and animated film provide additional context and stories within the same universe.', response_metadata={'token_usage': {'completion_tokens': 267, 'prompt_tokens': 14, 'total_tokens': 281}, 'model_name': 'gpt-4o', 'system_fingerprint': 'fp_43dfabdef1', 'finish_reason': 'stop', 'logprobs': None}, id='run-2f1dcc04-09b3-47bd-ac98-02214d2e1713-0')"
            ]
          },
          "metadata": {},
          "execution_count": 15
        }
      ]
    },
    {
      "cell_type": "markdown",
      "source": [
        "## Adding a parser and creating our first simple chain\n"
      ],
      "metadata": {
        "id": "NPMS4SYjqpg8"
      }
    },
    {
      "cell_type": "code",
      "source": [
        "parser = StrOutputParser()\n",
        "\n",
        "chain = model | parser\n",
        "chain.invoke(\"What are all the starwars movies\")"
      ],
      "metadata": {
        "colab": {
          "base_uri": "https://localhost:8080/",
          "height": 140
        },
        "id": "nwhGLOckpRtU",
        "outputId": "0d676765-b362-430c-8ad6-3fe93a76992b"
      },
      "execution_count": 16,
      "outputs": [
        {
          "output_type": "execute_result",
          "data": {
            "text/plain": [
              "'As of my knowledge cutoff date in October 2023, here is a list of all the main Star Wars movies, including the episodic films and the standalone anthology films:\\n\\n### The Skywalker Saga (Episodes I-IX)\\n1. **Episode I: The Phantom Menace** (1999)\\n2. **Episode II: Attack of the Clones** (2002)\\n3. **Episode III: Revenge of the Sith** (2005)\\n4. **Episode IV: A New Hope** (1977)\\n5. **Episode V: The Empire Strikes Back** (1980)\\n6. **Episode VI: Return of the Jedi** (1983)\\n7. **Episode VII: The Force Awakens** (2015)\\n8. **Episode VIII: The Last Jedi** (2017)\\n9. **Episode IX: The Rise of Skywalker** (2019)\\n\\n### Anthology Films (Standalone Films)\\n1. **Rogue One: A Star Wars Story** (2016)\\n2. **Solo: A Star Wars Story** (2018)\\n\\nThese films make up the core of the Star Wars cinematic universe. There are also numerous animated films, TV series, and other media that expand the Star Wars universe, but the above list includes the primary live-action films released in theaters.'"
            ],
            "application/vnd.google.colaboratory.intrinsic+json": {
              "type": "string"
            }
          },
          "metadata": {},
          "execution_count": 16
        }
      ]
    },
    {
      "cell_type": "markdown",
      "source": [
        "## Introducing prompt templates\n",
        "We would like to create a prompt template that we can reuse to provide the model context in different forms"
      ],
      "metadata": {
        "id": "HPfAp_Piq18R"
      }
    },
    {
      "cell_type": "code",
      "source": [
        "template = \"\"\"\n",
        "Answer the question based on the context below. If you can't\n",
        "answer the question, reply \"I don't know\".\n",
        "\n",
        "Context: {context}\n",
        "\n",
        "Question: {question}\n",
        "\"\"\"\n",
        "\n",
        "prompt = ChatPromptTemplate.from_template(template)\n",
        "prompt.format(context=\"My favorite fruits are apples and pears.\", question=\"What are my favorite fruits?\")"
      ],
      "metadata": {
        "colab": {
          "base_uri": "https://localhost:8080/",
          "height": 53
        },
        "id": "TB0y5HMzq5-O",
        "outputId": "08bd0f8b-78aa-4b14-e773-ed123ed2263e"
      },
      "execution_count": 17,
      "outputs": [
        {
          "output_type": "execute_result",
          "data": {
            "text/plain": [
              "'Human: \\nAnswer the question based on the context below. If you can\\'t \\nanswer the question, reply \"I don\\'t know\".\\n\\nContext: My favorite fruits are apples and pears.\\n\\nQuestion: What are my favorite fruits?\\n'"
            ],
            "application/vnd.google.colaboratory.intrinsic+json": {
              "type": "string"
            }
          },
          "metadata": {},
          "execution_count": 17
        }
      ]
    },
    {
      "cell_type": "code",
      "source": [
        "chain = prompt | model | parser\n",
        "chain.invoke({\n",
        "    \"context\": \"My favorite fruits are apples and pears.\",\n",
        "    \"question\": \"What are my favorite fruits?\"\n",
        "})"
      ],
      "metadata": {
        "colab": {
          "base_uri": "https://localhost:8080/",
          "height": 35
        },
        "id": "Rcf-LtnKrTgx",
        "outputId": "dfc08156-dd80-4eda-9bd3-d70259005603"
      },
      "execution_count": 18,
      "outputs": [
        {
          "output_type": "execute_result",
          "data": {
            "text/plain": [
              "'Your favorite fruits are apples and pears.'"
            ],
            "application/vnd.google.colaboratory.intrinsic+json": {
              "type": "string"
            }
          },
          "metadata": {},
          "execution_count": 18
        }
      ]
    },
    {
      "cell_type": "code",
      "source": [],
      "metadata": {
        "id": "3id2gIOnrcAf"
      },
      "execution_count": null,
      "outputs": []
    },
    {
      "cell_type": "markdown",
      "source": [
        "## Combining chains\n",
        "This is useful when performing vaiorus fuctions, such as translations. We build a specific chain to translate the output of the first chain."
      ],
      "metadata": {
        "id": "puLkaSnareI9"
      }
    },
    {
      "cell_type": "code",
      "source": [
        "translation_prompt = ChatPromptTemplate.from_template(\n",
        "    \"Translate {answer} to {language}\"\n",
        ")"
      ],
      "metadata": {
        "id": "6hDEWXFlrqFZ"
      },
      "execution_count": 19,
      "outputs": []
    },
    {
      "cell_type": "code",
      "source": [
        "translation_chain = (\n",
        "    {\"answer\": chain, \"language\": itemgetter(\"language\")} | translation_prompt | model | parser\n",
        ")\n",
        "\n",
        "translation_chain.invoke(\n",
        "    {\n",
        "        \"context\": \"My favorite fruits are apples and pears.\",\n",
        "        \"question\": \"What are my favorite fruits?\",\n",
        "        \"language\": \"German\",\n",
        "    }\n",
        ")"
      ],
      "metadata": {
        "colab": {
          "base_uri": "https://localhost:8080/",
          "height": 35
        },
        "id": "6gKz4EHNrtla",
        "outputId": "4730f860-2fa8-4767-d9d7-dfbb1b96ad96"
      },
      "execution_count": 22,
      "outputs": [
        {
          "output_type": "execute_result",
          "data": {
            "text/plain": [
              "'Deine Lieblingsfrüchte sind Äpfel und Birnen.'"
            ],
            "application/vnd.google.colaboratory.intrinsic+json": {
              "type": "string"
            }
          },
          "metadata": {},
          "execution_count": 22
        }
      ]
    },
    {
      "cell_type": "markdown",
      "source": [
        "## Load the AI act PDF and split it into documents"
      ],
      "metadata": {
        "id": "SZsm-oFYsF2c"
      }
    },
    {
      "cell_type": "code",
      "source": [
        "loader = PyPDFLoader(filename)\n",
        "documents = loader.load()\n",
        "documents[0:1]"
      ],
      "metadata": {
        "colab": {
          "base_uri": "https://localhost:8080/"
        },
        "id": "GoZtKLVesTlp",
        "outputId": "97178546-8be5-4243-9933-ec349f5aa0dc"
      },
      "execution_count": 28,
      "outputs": [
        {
          "output_type": "execute_result",
          "data": {
            "text/plain": [
              "[Document(page_content=\"ENUnited in diversityENEuropean Parliament\\n2019-2024\\nPlenary sitting\\ncor01\\n19.4.2024\\nCORRIGENDUM\\nto the position of the European Parliament adopted at first reading on 13 March 2024 with a view to \\nthe adoption of Regulation (EU) 2024/ ...... of the European Parliament \\nand of the Council laying down harmonised rules on artificial intelligence and amending \\nRegulations (EC) No 300/2008, (EU) No 167/2013, (EU) No 168/2013, (EU) 2018/858, (EU) \\n2018/1139 and (EU) 2019/2144 and Directives 2014/90/EU, (EU) 2016/797 and (EU) 2020/1828 \\n(Artificial Intelligence Act)\\nP9_TA(2024)0138 \\n(COM(2021)0206 – C9-0146/2021 – 2021/0106(COD))\\nIn accordance with Rule 241 of the European Parliament's Rules of Procedure, the above position is \\ncorrected as follows:\\nREGULATION (EU) 2024/… \\nOF THE EUROPEAN PARLIAMENT AND OF THE COUNCIL\\nof …\\nlaying down harmonised rules on artificial intelligence and amending Regulations (EC) No \\n300/2008, (EU) No 167/2013, (EU) No 168/2013, (EU) 2018/858, (EU) 2018/1139 and (EU) \\n2019/2144 and Directives 2014/90/EU, (EU) 2016/797 and (EU) 2020/1828 (Artificial \\nIntelligence Act)\\n(Text with EEA relevance)\\nTHE EUROPEAN PARLIAMENT AND THE COUNCIL OF THE EUROPEAN UNION,\\n\", metadata={'source': 'AI_Act.pdf', 'page': 0})]"
            ]
          },
          "metadata": {},
          "execution_count": 28
        }
      ]
    },
    {
      "cell_type": "markdown",
      "source": [
        "## Finding the Relevant Chunks\n",
        "Here we introduce the idea of embeddings."
      ],
      "metadata": {
        "id": "JY2uxqAetXSv"
      }
    },
    {
      "cell_type": "code",
      "source": [
        "embeddings = OpenAIEmbeddings()\n",
        "embedded_query = embeddings.embed_query(\"What are my favorite fruits?\")\n",
        "\n",
        "print(f\"Embedding length: {len(embedded_query)}\")\n",
        "print(embedded_query[:10])"
      ],
      "metadata": {
        "colab": {
          "base_uri": "https://localhost:8080/"
        },
        "id": "YqXljDjCtfJf",
        "outputId": "c04cd989-c583-44f0-bdf1-3f49af18ba40"
      },
      "execution_count": 30,
      "outputs": [
        {
          "output_type": "stream",
          "name": "stdout",
          "text": [
            "Embedding length: 1536\n",
            "[0.005407932660816378, -0.01827276677828038, 0.01719789759642708, -0.021570660096975447, -0.013093854253987184, 0.023708181371191805, -0.014974874390907887, -0.011976235503466322, 0.003038336046381708, -0.012849566480891484]\n"
          ]
        }
      ]
    },
    {
      "cell_type": "code",
      "source": [
        "sentence1 = embeddings.embed_query(\"My favorite fruits are apples and pears.\")\n",
        "sentence2 = embeddings.embed_query(\"Women in tech know how to code.\")"
      ],
      "metadata": {
        "id": "HKd1S9NTtmIB"
      },
      "execution_count": 32,
      "outputs": []
    },
    {
      "cell_type": "code",
      "source": [
        "query_sentence1_similarity = cosine_similarity([embedded_query], [sentence1])[0][0]\n",
        "query_sentence2_similarity = cosine_similarity([embedded_query], [sentence2])[0][0]\n",
        "\n",
        "query_sentence1_similarity, query_sentence2_similarity"
      ],
      "metadata": {
        "colab": {
          "base_uri": "https://localhost:8080/"
        },
        "id": "6TjIO_QItjXn",
        "outputId": "64c267ec-4ac1-4d43-ac51-9d1b198a9d8d"
      },
      "execution_count": 33,
      "outputs": [
        {
          "output_type": "execute_result",
          "data": {
            "text/plain": [
              "(0.9134376275060934, 0.7083026768065336)"
            ]
          },
          "metadata": {},
          "execution_count": 33
        }
      ]
    },
    {
      "cell_type": "markdown",
      "source": [
        "## Setting up a Vector Store\n",
        "We start with an in-memory vector store"
      ],
      "metadata": {
        "id": "MiLxU47wt-GY"
      }
    },
    {
      "cell_type": "code",
      "source": [],
      "metadata": {
        "id": "gIT-Vm4uvG5U"
      },
      "execution_count": null,
      "outputs": []
    },
    {
      "cell_type": "code",
      "source": [
        "vectorstore1 = DocArrayInMemorySearch.from_texts(\n",
        "    [\n",
        "        \"My favorite fruits are apples and pears.\",\n",
        "        \"My favorite summer fruits are peaches and cherries.\",\n",
        "        \"Women in tech know how to code.\",\n",
        "        \"Summers are better in Switzerland\",\n",
        "        \"Thomas drives an old car\",\n",
        "        \"Running is what I do in the morning\",\n",
        "    ],\n",
        "    embedding=embeddings,\n",
        ")"
      ],
      "metadata": {
        "id": "7TpKjFFit5Lg"
      },
      "execution_count": 49,
      "outputs": []
    },
    {
      "cell_type": "code",
      "source": [
        "vectorstore1.similarity_search_with_score(query=\"What are my favorite fruits?\", k=3)\n"
      ],
      "metadata": {
        "colab": {
          "base_uri": "https://localhost:8080/"
        },
        "id": "P7R6xk6PvAXQ",
        "outputId": "e4940e05-4337-4677-9298-652c811f7846"
      },
      "execution_count": 50,
      "outputs": [
        {
          "output_type": "execute_result",
          "data": {
            "text/plain": [
              "[(Document(page_content='My favorite fruits are apples and pears.'),\n",
              "  0.9134376361623296),\n",
              " (Document(page_content='My favorite summer fruits are peaches and cherries.'),\n",
              "  0.8977980728829228),\n",
              " (Document(page_content='Running is what I do in the morning'),\n",
              "  0.7671262360082354)]"
            ]
          },
          "metadata": {},
          "execution_count": 50
        }
      ]
    },
    {
      "cell_type": "markdown",
      "source": [
        "## Connecting the vector store to the chain\n"
      ],
      "metadata": {
        "id": "SpRdc2dkvNdo"
      }
    },
    {
      "cell_type": "code",
      "source": [
        "retriever1 = vectorstore1.as_retriever()\n",
        "retriever1.invoke(\"What are my favorite fruits?\")"
      ],
      "metadata": {
        "colab": {
          "base_uri": "https://localhost:8080/"
        },
        "id": "bCiV4oAztZ0w",
        "outputId": "24219637-acac-470c-dbb6-112007dfc5c8"
      },
      "execution_count": 51,
      "outputs": [
        {
          "output_type": "execute_result",
          "data": {
            "text/plain": [
              "[Document(page_content='My favorite fruits are apples and pears.'),\n",
              " Document(page_content='My favorite summer fruits are peaches and cherries.'),\n",
              " Document(page_content='Running is what I do in the morning'),\n",
              " Document(page_content='Summers are better in Switzerland')]"
            ]
          },
          "metadata": {},
          "execution_count": 51
        }
      ]
    },
    {
      "cell_type": "code",
      "source": [
        "setup = RunnableParallel(context=retriever1, question=RunnablePassthrough())\n",
        "setup.invoke(\"What are my favorite fruits?\")"
      ],
      "metadata": {
        "colab": {
          "base_uri": "https://localhost:8080/"
        },
        "id": "ZSDElbYkvX68",
        "outputId": "98d26a42-1839-4b74-93e7-96ea8a609a22"
      },
      "execution_count": 52,
      "outputs": [
        {
          "output_type": "execute_result",
          "data": {
            "text/plain": [
              "{'context': [Document(page_content='My favorite fruits are apples and pears.'),\n",
              "  Document(page_content='My favorite summer fruits are peaches and cherries.'),\n",
              "  Document(page_content='Running is what I do in the morning'),\n",
              "  Document(page_content='Summers are better in Switzerland')],\n",
              " 'question': 'What are my favorite fruits?'}"
            ]
          },
          "metadata": {},
          "execution_count": 52
        }
      ]
    },
    {
      "cell_type": "code",
      "source": [
        "chain = setup | prompt | model | parser\n",
        "chain.invoke(\"What are my favorite fruits?\")"
      ],
      "metadata": {
        "colab": {
          "base_uri": "https://localhost:8080/",
          "height": 35
        },
        "id": "jZiY19wovk6d",
        "outputId": "bfbb4bcf-d289-449c-aaae-1717c64fb3f0"
      },
      "execution_count": 53,
      "outputs": [
        {
          "output_type": "execute_result",
          "data": {
            "text/plain": [
              "'Your favorite fruits are apples, pears, peaches, and cherries.'"
            ],
            "application/vnd.google.colaboratory.intrinsic+json": {
              "type": "string"
            }
          },
          "metadata": {},
          "execution_count": 53
        }
      ]
    },
    {
      "cell_type": "code",
      "source": [
        "chain.invoke(\"What do women in tech do?\")"
      ],
      "metadata": {
        "colab": {
          "base_uri": "https://localhost:8080/",
          "height": 35
        },
        "id": "0ouvRZPBv_Gg",
        "outputId": "4115199b-c3e6-41d8-8a75-a0d764bdae42"
      },
      "execution_count": 54,
      "outputs": [
        {
          "output_type": "execute_result",
          "data": {
            "text/plain": [
              "'Women in tech know how to code.'"
            ],
            "application/vnd.google.colaboratory.intrinsic+json": {
              "type": "string"
            }
          },
          "metadata": {},
          "execution_count": 54
        }
      ]
    },
    {
      "cell_type": "markdown",
      "source": [
        "## Loading the transcription into the vector store"
      ],
      "metadata": {
        "id": "RXzwTkNRwGm-"
      }
    },
    {
      "cell_type": "code",
      "source": [
        "vectorstore2 = DocArrayInMemorySearch.from_documents(documents, embeddings)\n",
        "retriever2 = vectorstore2.as_retriever()"
      ],
      "metadata": {
        "id": "9zpjzHfSvn3h"
      },
      "execution_count": 57,
      "outputs": []
    },
    {
      "cell_type": "code",
      "source": [
        "setup2 = RunnableParallel(context=retriever2, question=RunnablePassthrough())\n",
        "chain = setup2 | prompt | model | parser"
      ],
      "metadata": {
        "id": "tOa1PsDtwRYU"
      },
      "execution_count": 58,
      "outputs": []
    },
    {
      "cell_type": "code",
      "source": [
        "chain.invoke(\"Is the AI Act a USA Bill?\")"
      ],
      "metadata": {
        "colab": {
          "base_uri": "https://localhost:8080/",
          "height": 35
        },
        "id": "WhG0lHIZwiGq",
        "outputId": "50f571eb-634d-46ed-9c51-13707f1ff24d"
      },
      "execution_count": 61,
      "outputs": [
        {
          "output_type": "execute_result",
          "data": {
            "text/plain": [
              "'No, the AI Act is not a USA Bill. It is a regulation within the European Union.'"
            ],
            "application/vnd.google.colaboratory.intrinsic+json": {
              "type": "string"
            }
          },
          "metadata": {},
          "execution_count": 61
        }
      ]
    },
    {
      "cell_type": "markdown",
      "source": [
        "## Setting up Pinecone\n",
        "So far we've used an in-memory vector store. In practice, we need a vector store that can handle large amounts of data and perform similarity searches at scale. For this example, we'll use Pinecone.\n",
        "\n",
        "The first step is to create a Pinecone account, set up an index, get an API key, and set it as an environment variable PINECONE_API_KEY."
      ],
      "metadata": {
        "id": "LUc2X-ndwwnG"
      }
    },
    {
      "cell_type": "code",
      "source": [
        "index_name = \"myrag\"\n",
        "\n",
        "pinecone = PineconeVectorStore.from_documents(\n",
        "    documents, embeddings, index_name=index_name\n",
        ")"
      ],
      "metadata": {
        "id": "enNaq5e8wym_"
      },
      "execution_count": 62,
      "outputs": []
    },
    {
      "cell_type": "code",
      "source": [
        "pinecone.similarity_search(\"What is the AI Act?\")[:3]\n"
      ],
      "metadata": {
        "colab": {
          "base_uri": "https://localhost:8080/"
        },
        "id": "B0sbOgbTxRt4",
        "outputId": "7d8b1079-97c3-457b-9cc6-e28ac41fb3af"
      },
      "execution_count": 63,
      "outputs": [
        {
          "output_type": "execute_result",
          "data": {
            "text/plain": [
              "[Document(page_content='ENUnited in diversityEN(64) To mitigate the risks from high-risk AI systems placed on the market or put into service \\nand to ensure a high level of trustworthiness, certain mandatory requirements should \\napply to high-risk AI systems, taking into account the intended purpose and the context of \\nuse of the AI system and according to the risk-management system to be established by the \\nprovider. The measures adopted by the providers to comply with the mandatory \\nrequirements of this Regulation should take into account the generally acknowledged \\nstate of the art on AI, be proportionate and effective to meet the objectives of this \\nRegulation. Based on the New Legislative Framework, as clarified in Commission notice \\n“The ‘Blue Guide’ on the implementation of EU product rules 2022”, the general rule is \\nthat more than one legal act of Union harmonisation legislation may be applicable to \\none product, since the making available or putting into service can take place only when \\nthe product complies with all applicable Union harmonisation legislation. The hazards \\nof AI systems covered by the requirements of this Regulation concern different aspects \\nthan the existing Union harmonisation legislation and therefore the requirements of this \\nRegulation would complement the existing body of the Union harmonisation legislation. \\nFor example, machinery or medical devices products incorporating an AI system might \\npresent risks not addressed by the essential health and safety requirements set out in the \\nrelevant Union harmonised legislation, as that sectoral law does not deal with risks \\nspecific to AI systems. ', metadata={'page': 61.0, 'source': 'AI_Act.pdf'}),\n",
              " Document(page_content='ENUnited in diversityEN CHAPTER II\\nPROHIBITED AI PRACTICES\\nArticle 5\\nProhibited AI Practices\\n1. The following AI practices shall be prohibited:\\n(a) the placing on the market, the putting into service or the use of an AI system that \\ndeploys subliminal techniques beyond a person’s consciousness or purposefully \\nmanipulative or deceptive techniques, with the objective, or the effect of materially \\ndistorting the behaviour of a person or a group of persons by appreciably impairing \\ntheir ability to make an informed decision, thereby causing them to take a decision \\nthat they would not have otherwise taken in a manner that causes or is reasonably \\nlikely to cause that person, another person or group of persons significant harm;', metadata={'page': 179.0, 'source': 'AI_Act.pdf'}),\n",
              " Document(page_content='ENUnited in diversityENWhereas:\\n(1) The purpose of this Regulation is to improve the functioning of the internal market by \\nlaying down a uniform legal framework in particular for the development, the placing on \\nthe market, the putting into service and the use of artificial intelligence systems (AI \\nsystems) in the Union, in accordance with Union values, to promote the uptake of human \\ncentric and trustworthy artificial intelligence (AI) while ensuring a high level of \\nprotection of health, safety, fundamental rights as enshrined in the Charter of \\nFundamental Rights of the European Union (the ‘Charter’), including democracy, the \\nrule of law and environmental protection, to protect against the harmful effects of AI \\nsystems in the Union, and to support innovation. This Regulation ensures the free \\nmovement, cross-border, of AI-based goods and services, thus preventing Member States \\nfrom imposing restrictions on the development, marketing and use of AI systems, unless \\nexplicitly authorised by this Regulation.\\n(2) This Regulation should be applied in accordance with the values of the Union enshrined \\nas in the Charter, facilitating the protection of natural persons, undertakings, \\ndemocracy, the rule of law and environmental protection, while boosting innovation and \\nemployment and making the Union a leader in the uptake of trustworthy AI.', metadata={'page': 2.0, 'source': 'AI_Act.pdf'})]"
            ]
          },
          "metadata": {},
          "execution_count": 63
        }
      ]
    },
    {
      "cell_type": "code",
      "source": [
        "retriever3 = pinecone.as_retriever()\n",
        "setup3 = RunnableParallel(context=retriever3, question=RunnablePassthrough())\n",
        "setup3.invoke(\"What is the AI Act?\")"
      ],
      "metadata": {
        "colab": {
          "base_uri": "https://localhost:8080/"
        },
        "id": "M3EXgHwhxZmR",
        "outputId": "3b94b169-f58f-4d7a-917e-161265ce361e"
      },
      "execution_count": 65,
      "outputs": [
        {
          "output_type": "execute_result",
          "data": {
            "text/plain": [
              "{'context': [Document(page_content='ENUnited in diversityEN(64) To mitigate the risks from high-risk AI systems placed on the market or put into service \\nand to ensure a high level of trustworthiness, certain mandatory requirements should \\napply to high-risk AI systems, taking into account the intended purpose and the context of \\nuse of the AI system and according to the risk-management system to be established by the \\nprovider. The measures adopted by the providers to comply with the mandatory \\nrequirements of this Regulation should take into account the generally acknowledged \\nstate of the art on AI, be proportionate and effective to meet the objectives of this \\nRegulation. Based on the New Legislative Framework, as clarified in Commission notice \\n“The ‘Blue Guide’ on the implementation of EU product rules 2022”, the general rule is \\nthat more than one legal act of Union harmonisation legislation may be applicable to \\none product, since the making available or putting into service can take place only when \\nthe product complies with all applicable Union harmonisation legislation. The hazards \\nof AI systems covered by the requirements of this Regulation concern different aspects \\nthan the existing Union harmonisation legislation and therefore the requirements of this \\nRegulation would complement the existing body of the Union harmonisation legislation. \\nFor example, machinery or medical devices products incorporating an AI system might \\npresent risks not addressed by the essential health and safety requirements set out in the \\nrelevant Union harmonised legislation, as that sectoral law does not deal with risks \\nspecific to AI systems. ', metadata={'page': 61.0, 'source': 'AI_Act.pdf'}),\n",
              "  Document(page_content='ENUnited in diversityEN CHAPTER II\\nPROHIBITED AI PRACTICES\\nArticle 5\\nProhibited AI Practices\\n1. The following AI practices shall be prohibited:\\n(a) the placing on the market, the putting into service or the use of an AI system that \\ndeploys subliminal techniques beyond a person’s consciousness or purposefully \\nmanipulative or deceptive techniques, with the objective, or the effect of materially \\ndistorting the behaviour of a person or a group of persons by appreciably impairing \\ntheir ability to make an informed decision, thereby causing them to take a decision \\nthat they would not have otherwise taken in a manner that causes or is reasonably \\nlikely to cause that person, another person or group of persons significant harm;', metadata={'page': 179.0, 'source': 'AI_Act.pdf'}),\n",
              "  Document(page_content='ENUnited in diversityENWhereas:\\n(1) The purpose of this Regulation is to improve the functioning of the internal market by \\nlaying down a uniform legal framework in particular for the development, the placing on \\nthe market, the putting into service and the use of artificial intelligence systems (AI \\nsystems) in the Union, in accordance with Union values, to promote the uptake of human \\ncentric and trustworthy artificial intelligence (AI) while ensuring a high level of \\nprotection of health, safety, fundamental rights as enshrined in the Charter of \\nFundamental Rights of the European Union (the ‘Charter’), including democracy, the \\nrule of law and environmental protection, to protect against the harmful effects of AI \\nsystems in the Union, and to support innovation. This Regulation ensures the free \\nmovement, cross-border, of AI-based goods and services, thus preventing Member States \\nfrom imposing restrictions on the development, marketing and use of AI systems, unless \\nexplicitly authorised by this Regulation.\\n(2) This Regulation should be applied in accordance with the values of the Union enshrined \\nas in the Charter, facilitating the protection of natural persons, undertakings, \\ndemocracy, the rule of law and environmental protection, while boosting innovation and \\nemployment and making the Union a leader in the uptake of trustworthy AI.', metadata={'page': 2.0, 'source': 'AI_Act.pdf'}),\n",
              "  Document(page_content='ENUnited in diversityENCHAPTER I\\nGENERAL PROVISIONS\\nArticle 1\\nSubject matter`\\n1. The purpose of this Regulation is to improve the functioning of the internal market and \\npromote the uptake of human-centric and trustworthy artificial intelligence (AI), while \\nensuring a high level of protection of health, safety, fundamental rights enshrined in the \\nCharter, including democracy, the rule of law and environmental protection, against the \\nharmful effects of AI systems in the Union and supporting innovation.\\n2. This Regulation lays down:\\n(a) harmonised rules for the placing on the market, the putting into service, and the use \\nof AI systems in the Union;\\n(b) prohibitions of certain AI practices;\\n(c) specific requirements for high-risk AI systems and obligations for operators of such \\nsystems;', metadata={'page': 158.0, 'source': 'AI_Act.pdf'})],\n",
              " 'question': 'What is the AI Act?'}"
            ]
          },
          "metadata": {},
          "execution_count": 65
        }
      ]
    },
    {
      "cell_type": "code",
      "source": [
        "chain3 = setup3 | prompt | model | parser\n",
        "chain3.invoke(\"What is the AI Act?\")"
      ],
      "metadata": {
        "colab": {
          "base_uri": "https://localhost:8080/",
          "height": 105
        },
        "id": "qZwRFKzdxzPv",
        "outputId": "d37b2e33-1f05-4bc2-f167-60e783c48932"
      },
      "execution_count": 67,
      "outputs": [
        {
          "output_type": "execute_result",
          "data": {
            "text/plain": [
              "'The AI Act is a regulation aimed at improving the functioning of the internal market by establishing a uniform legal framework for the development, placing on the market, putting into service, and use of artificial intelligence (AI) systems in the European Union. It seeks to promote the uptake of human-centric and trustworthy AI while ensuring a high level of protection for health, safety, fundamental rights, democracy, the rule of law, and environmental protection. The regulation includes harmonized rules for AI systems, prohibitions of certain AI practices, and specific requirements for high-risk AI systems and obligations for their operators.'"
            ],
            "application/vnd.google.colaboratory.intrinsic+json": {
              "type": "string"
            }
          },
          "metadata": {},
          "execution_count": 67
        }
      ]
    },
    {
      "cell_type": "markdown",
      "source": [
        "## Testing\n"
      ],
      "metadata": {
        "id": "VBXsCK-UyKv9"
      }
    },
    {
      "cell_type": "code",
      "source": [],
      "metadata": {
        "id": "pLB2Nc_Lx-L3"
      },
      "execution_count": null,
      "outputs": []
    }
  ]
}